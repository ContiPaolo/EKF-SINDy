{
  "cells": [
    {
      "cell_type": "markdown",
      "id": "ffb7e5d9",
      "metadata": {
        "colab_type": "text",
        "id": "view-in-github"
      },
      "source": [
        "<a href=\"https://colab.research.google.com/github/ContiPaolo/EKF-SINDy/blob/Refactor/SelkovModel_OnlineLearning.ipynb\" target=\"_parent\"><img src=\"https://colab.research.google.com/assets/colab-badge.svg\" alt=\"Open In Colab\"/></a>"
      ]
    },
    {
      "cell_type": "code",
      "execution_count": 3,
      "id": "I3_XUc0B_eXy",
      "metadata": {
        "colab": {
          "base_uri": "https://localhost:8080/"
        },
        "id": "I3_XUc0B_eXy",
        "outputId": "b0e86828-3fba-4c67-cde9-d46afc123650"
      },
      "outputs": [
        {
          "name": "stdout",
          "output_type": "stream",
          "text": [
            "EKF-SINDy ready to go :)\n"
          ]
        },
        {
          "ename": "ModuleNotFoundError",
          "evalue": "No module named 'numpy'",
          "output_type": "error",
          "traceback": [
            "\u001b[31m---------------------------------------------------------------------------\u001b[39m",
            "\u001b[31mModuleNotFoundError\u001b[39m                       Traceback (most recent call last)",
            "\u001b[36mCell\u001b[39m\u001b[36m \u001b[39m\u001b[32mIn[3]\u001b[39m\u001b[32m, line 15\u001b[39m\n\u001b[32m     12\u001b[39m \u001b[38;5;28mprint\u001b[39m(\u001b[33m\"\u001b[39m\u001b[33mEKF-SINDy ready to go :)\u001b[39m\u001b[33m\"\u001b[39m)\n\u001b[32m     14\u001b[39m \u001b[38;5;66;03m###########################                LIBRARIES                ###########################\u001b[39;00m\n\u001b[32m---> \u001b[39m\u001b[32m15\u001b[39m \u001b[38;5;28;01mimport\u001b[39;00m\u001b[38;5;250m \u001b[39m\u001b[34;01mnumpy\u001b[39;00m\u001b[38;5;250m \u001b[39m\u001b[38;5;28;01mas\u001b[39;00m\u001b[38;5;250m \u001b[39m\u001b[34;01mnp\u001b[39;00m\n\u001b[32m     16\u001b[39m \u001b[38;5;28;01mimport\u001b[39;00m\u001b[38;5;250m \u001b[39m\u001b[34;01mpysindy\u001b[39;00m\u001b[38;5;250m \u001b[39m\u001b[38;5;28;01mas\u001b[39;00m\u001b[38;5;250m \u001b[39m\u001b[34;01mps\u001b[39;00m\n\u001b[32m     17\u001b[39m \u001b[38;5;28;01mfrom\u001b[39;00m\u001b[38;5;250m \u001b[39m\u001b[34;01mscipy\u001b[39;00m\u001b[34;01m.\u001b[39;00m\u001b[34;01mintegrate\u001b[39;00m\u001b[38;5;250m \u001b[39m\u001b[38;5;28;01mimport\u001b[39;00m odeint\n",
            "\u001b[31mModuleNotFoundError\u001b[39m: No module named 'numpy'"
          ]
        }
      ],
      "source": [
        "###########################  CLONE EKF-SINDY AND INSTALL PACKAGES  ###########################\n",
        "from IPython.display import clear_output\n",
        "import sys\n",
        "\n",
        "sys.path.append('/content/EKF-SINDy')\n",
        "\n",
        "#!rm -rf /content/EKF-SINDy\n",
        "#!git clone -b Refactor https://github.com/ContiPaolo/EKF-SINDy\n",
        "!pip3 install -r requirements.txt\n",
        "#!pip install pysindy pyDOE filterpy\n",
        "clear_output()\n",
        "print(\"EKF-SINDy ready to go :)\")\n",
        "\n",
        "###########################                LIBRARIES                ###########################\n",
        "import numpy as np\n",
        "import pysindy as ps\n",
        "from scipy.integrate import odeint\n",
        "import matplotlib.pyplot as plt\n",
        "from sklearn.metrics import mean_squared_error\n",
        "from pyDOE import lhs\n",
        "import copy\n",
        "import sympy as sp\n",
        "\n",
        "from utils_EKFSINDy import add_noise_with_snr\n",
        "from utils_EKFSINDy_online import add_noise_with_snr, extract_coefficients, model_Asindy, updateA, compute_J_library, jacobian_A_A_out, jacobian_H_Hout, numInt, plot_outcomes, plot_phase_space\n",
        "seed = 1"
      ]
    },
    {
      "cell_type": "markdown",
      "id": "SFHW7DICzpTu",
      "metadata": {
        "id": "SFHW7DICzpTu"
      },
      "source": [
        "# Selkov Model\n",
        "\n",
        "The Selkov model equations are:\n",
        "\n",
        "\\begin{aligned}\n",
        "\\quad u_1' &= \\rho - \\sigma_1 u_1 - b_{122,1} u_1  u_2^2, \\\\\n",
        "\\quad u_2' &= \\sigma_2  u_1 -k_{2}  u_2 + b_{122,2}  u_1  u_2^2.\n",
        "\\end{aligned}\n",
        "\n",
        "\n",
        "The equilibrium point is:\n",
        "\n",
        "$(x_0, y_0) = \\left(\\frac{\\rho}{\\sigma + \\rho^2}, \\rho\\right)$\n",
        "\n",
        "### Hopf Bifurcations and Stability Regions\n",
        "\n",
        "By varying $\\rho$, two Hopf bifurcations occur, defining three regions of stability:\n",
        "\n",
        "- $\\rho < 0.41$: Stable fixed point.\n",
        "- $0.41 < \\rho < 0.8$: Stable limit cycle.\n",
        "- $\\rho > 0.8$: Stable fixed point.\n",
        "\n",
        "The bifurcation values of $\\rho$ are:\n",
        "- $\\rho_1 = 0.41$\n",
        "- $\\rho_2 = 0.8$"
      ]
    },
    {
      "cell_type": "code",
      "execution_count": 2,
      "id": "IiwGyhpAGiqI",
      "metadata": {
        "id": "IiwGyhpAGiqI"
      },
      "outputs": [],
      "source": [
        "# Define parameters for Sel'kov model for the offline training\n",
        "system = {\n",
        "    'rho'    : 0.92,\n",
        "    'sigma1' : 0.10,\n",
        "    'sigma2' : 0.10,\n",
        "    'k2'     : 1.,\n",
        "    'b122_1' : 1.,\n",
        "    'b122_2' : 1.,\n",
        "\n",
        "    't0'     : 0.00,\n",
        "    'T_train': 100.,\n",
        "    'dt'     : 0.10,\n",
        "}\n",
        "\n",
        "# Define the differential equations for the Sel'kov model\n",
        "def f(y, t, system = system, train = True):\n",
        "    u1, u2 = y\n",
        "    sigma1  = system['sigma1']\n",
        "    sigma2 = system['sigma2']\n",
        "    k2    = system['k2']\n",
        "    b112_1 = system['b122_1']\n",
        "    b122_2 = system['b122_2']\n",
        "\n",
        "    if train:\n",
        "      #during training we consider a constant value of rho\n",
        "      rho = system['rho']\n",
        "    else:\n",
        "      #during testing we vary rho (from rho_start to rho_end)\n",
        "      rho_start, rho_end, T, T1, T_sweep  = system['rho_start'], system['rho_end'], system['T'], system['T1'], system['T_sweep']\n",
        "      if t < T1:\n",
        "          rho = rho_start\n",
        "      elif t > T1+T_sweep:\n",
        "          rho = rho_end\n",
        "      else:\n",
        "          rho = rho_start + (rho_end-rho_start)*(t-T1)/T_sweep\n",
        "\n",
        "    #Selk'ov model:\n",
        "    du1 = rho - sigma1 * u1 - b112_1 * u1 * u2**2\n",
        "    du2 = sigma1 * u1 - k2 * u2 + b122_2 * u1 * u2**2\n",
        "\n",
        "    return [du1, du2]"
      ]
    },
    {
      "cell_type": "code",
      "execution_count": 3,
      "id": "B59Ni9ybEJ2d",
      "metadata": {
        "colab": {
          "base_uri": "https://localhost:8080/"
        },
        "id": "B59Ni9ybEJ2d",
        "outputId": "466eda01-272f-49ad-b22a-e10c9f06b59e"
      },
      "outputs": [
        {
          "name": "stdout",
          "output_type": "stream",
          "text": [
            "(u1)' = 0.923 1 + -0.094 u1 + -0.076 u1 u2 + -0.929 u1 u2^2\n",
            "(u2)' = 0.108 u1 + -0.934 u2 + 0.918 u1 u2^2\n"
          ]
        }
      ],
      "source": [
        "# %%\n",
        "######################       GENERATE DATA       ######################\n",
        "\n",
        "t_train = np.arange(system['t0'], system['T_train'], system['dt'])\n",
        "\n",
        "#Generate random ICs\n",
        "np.random.seed(seed=seed)\n",
        "u1_0 = np.random.normal(0.2, 2, 20)\n",
        "u2_0 = np.random.normal(0.2, 2, 20)\n",
        "\n",
        "#number of instances\n",
        "n_train = 16\n",
        "\n",
        "#Generate data\n",
        "Xtrain = []\n",
        "\n",
        "for i in range(n_train):\n",
        "    y0 = [u1_0[i], u2_0[i]]\n",
        "    sol = odeint(f, y0, t_train, args=(system, True))\n",
        "    Xtrain.append(sol)\n",
        "\n",
        "#%%\n",
        "# ######################      CREATE SINDy model       ######################\n",
        "# We use SINDy to identify a model for the Sel'kov dynamics.\n",
        "model = ps.SINDy(feature_names=['u1', 'u2'],\n",
        "                 feature_library=ps.PolynomialLibrary(degree=3),\n",
        "                 optimizer=ps.STLSQ(threshold=5e-2))\n",
        "model.fit(Xtrain, t=system['dt'], multiple_trajectories=True)\n",
        "model.print()\n",
        "\n",
        "#store model coefficients\n",
        "coeffs = model.coefficients()"
      ]
    },
    {
      "cell_type": "code",
      "execution_count": 4,
      "id": "pECFpDWjFAkO",
      "metadata": {
        "id": "pECFpDWjFAkO"
      },
      "outputs": [],
      "source": [
        "#%% Parameters for the identification of the SINDy model\n",
        "system = {\n",
        "    #in the identification phase we will change the parameter rho from rho_start to rho_end\n",
        "    'rho_start': 0.92,\n",
        "    'rho_end'  : 0.70,\n",
        "    'sigma1'   : 0.10,\n",
        "    'sigma2'   : 0.10,\n",
        "    'k2'       : 1.,\n",
        "    'b122_1'   : 1.,\n",
        "    'b122_2'   : 1.,\n",
        "\n",
        "    't0'       : 0.0,\n",
        "    'T1'       : 50.,  #time instance for which the change of parameter occurs\n",
        "    'T_sweep'  : 50.,  #length of the time window for which the parameter changes linearly\n",
        "    'T'        : 300., #final time\n",
        "    #note that we online assimilation is up to T=300, which is much longer than the training time T_train=100\n",
        "    'dt'       : 0.10\n",
        "}"
      ]
    },
    {
      "cell_type": "code",
      "execution_count": 5,
      "id": "TW36xfN9lVum",
      "metadata": {
        "colab": {
          "base_uri": "https://localhost:8080/",
          "height": 413
        },
        "id": "TW36xfN9lVum",
        "outputId": "926f0e08-2949-4c0d-8e44-648246423e78"
      },
      "outputs": [
        {
          "data": {
            "image/png": "[encoded data removed]",
            "text/plain": [
              "<Figure size 1200x600 with 4 Axes>"
            ]
          },
          "metadata": {},
          "output_type": "display_data"
        }
      ],
      "source": [
        "# %%\n",
        "######################       GENERATE DATA for EKF       ######################\n",
        "#Number of instances\n",
        "n_test = 1\n",
        "\n",
        "# Define the time frame\n",
        "t0, T1, T, T_sweep, dt = system['t0'], system['T1'], system['T'], system['T_sweep'], system['dt']\n",
        "t = np.arange(t0,T,dt)\n",
        "Nt = len(t)\n",
        "\n",
        "#Generate random ICs\n",
        "np.random.seed(seed=seed)\n",
        "u1_0 = np.random.normal(0.2,2,n_test)\n",
        "u2_0 = np.random.normal(0.2,2,n_test)\n",
        "\n",
        "#Generate data\n",
        "y0 = np.array([u1_0[0],u2_0[0]])\n",
        "X  = odeint(f,y0,t, args=(system, False))\n",
        "\n",
        "#Plot test data\n",
        "plt.figure(figsize = [12,6])\n",
        "plt.subplot(2,2,1)\n",
        "plt.plot(t,X[:,0],label='u1')\n",
        "plt.plot(t,X[:,1],label='u2')\n",
        "plt.xlabel('t')\n",
        "plt.ylabel('state')\n",
        "plt.title('Noise-free trajectory in time')\n",
        "plt.legend()\n",
        "\n",
        "plt.subplot(2,2,2)\n",
        "plt.plot(X[:,0],X[:,1],'black')\n",
        "plt.plot(u1_0[0],u2_0[0],'ro')\n",
        "plt.xlabel('u1')\n",
        "plt.ylabel('u2')\n",
        "plt.title('Noise-free trajectory in state space')\n",
        "\n",
        "#Add noise:\n",
        "X[:,0]      = add_noise_with_snr(X[:,0],25)\n",
        "X[:,1]      = add_noise_with_snr(X[:,1],25)\n",
        "\n",
        "plt.subplot(2,2,3)\n",
        "plt.plot(t,X[:,0],label='u1')\n",
        "plt.plot(t,X[:,1],label='u2')\n",
        "plt.xlabel('t')\n",
        "plt.ylabel('state')\n",
        "plt.title('Noisy trajectory in time')\n",
        "plt.legend()\n",
        "\n",
        "plt.subplot(2,2,4)\n",
        "plt.plot(X[:,0],X[:,1],'black')\n",
        "plt.plot(X[0,0],X[0,1],'ro')\n",
        "plt.xlabel('u1')\n",
        "plt.ylabel('u2')\n",
        "plt.title('Noisy trajectory in state space')\n",
        "\n",
        "plt.subplots_adjust(hspace=0.4)\n",
        "plt.show()"
      ]
    },
    {
      "cell_type": "code",
      "execution_count": 6,
      "id": "XsL5VzDnSplY",
      "metadata": {
        "colab": {
          "base_uri": "https://localhost:8080/"
        },
        "id": "XsL5VzDnSplY",
        "outputId": "f5ff32ef-2a3f-4523-97ec-244f6d72832b"
      },
      "outputs": [
        {
          "name": "stdout",
          "output_type": "stream",
          "text": [
            "SINDy library terms:\n",
            "1\n",
            "u1\n",
            "u2\n",
            "u1**2\n",
            "u1*u2\n",
            "u2**2\n",
            "u1**3\n",
            "u1**2*u2\n",
            "u1*u2**2\n",
            "u2**3\n",
            "\n",
            "Derivatives with respect to u1:\n",
            "0\n",
            "1\n",
            "0\n",
            "2*u1\n",
            "u2\n",
            "0\n",
            "3*u1**2\n",
            "2*u1*u2\n",
            "u2**2\n",
            "0\n",
            "\n",
            "Derivatives with respect to u2:\n",
            "0\n",
            "0\n",
            "1\n",
            "0\n",
            "u1\n",
            "2*u2\n",
            "0\n",
            "u1**2\n",
            "2*u1*u2\n",
            "3*u2**2\n"
          ]
        }
      ],
      "source": [
        "sindy_library_names = model.get_feature_names()\n",
        "\n",
        "# Define symbolic variables\n",
        "u1, u2 = sp.symbols('u1 u2')\n",
        "\n",
        "# Convert feature names to symbolic expressions\n",
        "terms = []\n",
        "for term in sindy_library_names:\n",
        "    # Replace '^' with '**' for exponentiation in SymPy and remove any spaces\n",
        "    term = term.replace('^', '**').replace(' ', '*')\n",
        "    try:\n",
        "        terms.append(eval(term, {'u1': u1, 'u2': u2}))\n",
        "    except SyntaxError as e:\n",
        "        print(f\"Error parsing term '{term}': {e}\")\n",
        "\n",
        "# Set up SINDy library terms and their derivatives\n",
        "sindy_library = [sp.lambdify((u1, u2), expr) for expr in terms]\n",
        "print(\"SINDy library terms:\")\n",
        "for expr in terms:\n",
        "    print(expr)\n",
        "\n",
        "sindy_library_du1 = [sp.lambdify((u1, u2), sp.diff(expr, u1)) for expr in terms]\n",
        "print(\"\\nDerivatives with respect to u1:\")\n",
        "for expr in terms:\n",
        "    print(sp.diff(expr, u1))\n",
        "\n",
        "sindy_library_du2 = [sp.lambdify((u1, u2), sp.diff(expr, u2)) for expr in terms]\n",
        "print(\"\\nDerivatives with respect to u2:\")\n",
        "for expr in terms:\n",
        "    print(sp.diff(expr, u2))"
      ]
    },
    {
      "cell_type": "markdown",
      "id": "tNWLDMtA8o8L",
      "metadata": {
        "id": "tNWLDMtA8o8L"
      },
      "source": [
        "The model identified by SINDy offline has the form\n",
        "\n",
        "\\begin{aligned}\n",
        "\\quad u_1' &= \\tilde{\\rho} - \\tilde{\\sigma}_1 u_1 + {{\\color{red}{\\tilde{a}_{12,1} u_1u_2}}}- \\tilde{b}_{122,1} u_1 u_2^2, \\\\\n",
        "\\quad u_2' &= \\tilde{\\sigma}_2 u_1  -\\tilde{k}_{2,2} u_2 + \\tilde{b}_{122,2} u_1  u_2^2,\n",
        "\\end{aligned}\n",
        "\n",
        "where the term ${\\tilde{a}_{12,1} u_1u_2}$ is (erroneously) indicated as relevant (non zero), while it is absent in the original model, i.e. $a_{12,1}=0$.\n",
        "\n",
        "All the coefficients are stored in the matrix $\\Xi$ which is given by `coeffs`.\n",
        "We make use of the function `extract_coefficients` to construct $\\tilde{\\Xi}$ and $\\Xi_0$, namely the coefficients that we want to montior and the ones which we keep frozen."
      ]
    },
    {
      "cell_type": "code",
      "execution_count": 7,
      "id": "1H4WzMT_8rGM",
      "metadata": {
        "id": "1H4WzMT_8rGM"
      },
      "outputs": [],
      "source": [
        "#%% Initialize the SINDy-EKF setup\n",
        "\n",
        "n_eqs = N_x = 2  # Number of equations (states)\n",
        "N_obs  = 2       # Number of observed states (we observe all the states)\n",
        "N_xu   = 2       # Overall number of states and forcing terms (we have no forcing)\n",
        "\n",
        "# Extract nonzero coefficients from the SINDy model identified offline\n",
        "non_zero_coeff_indices = np.nonzero(coeffs)\n",
        "#it returns a list where the first element indicates the equation of the nonzero coefficients\n",
        "#and the second element indicates the number of the nonzero term in the corresponding equation\n",
        "\n",
        "eqOfInterest = non_zero_coeff_indices[0]\n",
        "funct_names =  [terms[i] for i in non_zero_coeff_indices[1]]"
      ]
    },
    {
      "cell_type": "markdown",
      "id": "R_xpmCx78ucl",
      "metadata": {
        "id": "R_xpmCx78ucl"
      },
      "source": [
        "\n",
        "In this case we monitor all the nonzero coefficients identified by SINDy, namely\n",
        "$$[\\tilde{\\rho}, \\tilde{\\sigma_1}, \\tilde{a}_{12,1}, \\tilde{b}_{122,1}, \\tilde{\\sigma_2}, \\tilde{k}_{2,2}, \\tilde{b}_{122,2}],$$\n",
        "and collect them in $\\tilde{\\Xi}$.\n",
        "\n",
        "All the other coefficients (the ones set to zero by the offline SINDy) are kept frozen to zero, not monitored and collected in $\\Xi_0$."
      ]
    },
    {
      "cell_type": "code",
      "execution_count": 11,
      "id": "hI_OCeLWSHOH",
      "metadata": {
        "id": "hI_OCeLWSHOH"
      },
      "outputs": [],
      "source": [
        "# We monitor all the nonzero coefficients identified by SINDy\n",
        "keepEntries = np.arange(len(non_zero_coeff_indices[0]))\n",
        "#Coefficient names and corresponding ground truth value\n",
        "coeff_names     = ['rho','sigma_1','a12_1', 'b122_1','sigma_2','k2_2', 'b122_2']\n",
        "true_coeff      = [system['rho_start'],-system['sigma1'],0.0,-system['b122_1'],system['sigma2'],-system['k2'],system['b122_2']]\n",
        "\n",
        "# We don't monitor the zero coefficients identified by SINDy\n",
        "eqOfInterestOut = []\n",
        "takeOutEntries = []\n",
        "\n",
        "N_param = len(keepEntries)\n",
        "\n",
        "# Construct the matrix of coefficients to be monitored $\\tilde{\\Xi}$\n",
        "(\n",
        "    B_map,\n",
        "    unique_terms,\n",
        "    sindy_terms,\n",
        "    term_names,\n",
        "    A,\n",
        "    sindy_derivatives_u1,\n",
        "    sindy_derivatives_u2,\n",
        ") = extract_coefficients(coeffs, keepEntries, eqOfInterest, sindy_library, sindy_library_names, sindy_library_du1, sindy_library_du2, n_eqs)\n",
        "\n",
        "# Construct the matrix of coefficients to keep frozen $\\Xi_0$\n",
        "(\n",
        "    B_map_out,\n",
        "    unique_terms_out,\n",
        "    sindy_terms_out,\n",
        "    term_names_out,\n",
        "    A_out,\n",
        "    sindy_derivatives_u1_out,\n",
        "    sindy_derivatives_u2_out,\n",
        ") = extract_coefficients(coeffs, takeOutEntries, eqOfInterestOut, sindy_library, sindy_library_names, sindy_library_du1, sindy_library_du2, n_eqs)\n",
        "\n",
        "# Observations and parameters setup\n",
        "h_coeffs     = np.zeros(shape=(N_obs,A.shape[1]))\n",
        "h_coeffs[0,1] = 1.0  #[0,1,4,8] --> u1\n",
        "h_coeffs[1,1] = 1.0  #[1,2,8]   --> u2\n",
        "h_coeffs_out = np.zeros(shape=(N_obs,len(unique_terms)))"
      ]
    },
    {
      "cell_type": "code",
      "execution_count": 13,
      "id": "suw3JYHvltYk",
      "metadata": {
        "id": "suw3JYHvltYk"
      },
      "outputs": [],
      "source": [
        "# %% Filter tuning\n",
        "\n",
        "Nt_analysis = int(Nt)\n",
        "\n",
        "# Define variation for all terms ***********************************************************\n",
        "p0_u = 1e-8\n",
        "p0_param = [5e-4, 1e-3, 5e-4, 1e-3, 1e-4, 5e-4, 1e-3]  # rho, sigma_1, a12_1, b122_1, sigma_2, k2_2, b122_2\n",
        "\n",
        "# Process noise\n",
        "q_u_1, q_u_2 = 8e-7, 8e-7\n",
        "q_param = [5e-6, 1e-9, 1e-10, 1e-10, 1e-11, 1e-9, 1e-12]  # rho, sigma_1, a12_1, b122_1, sigma_2, k2_2, b122_2\n",
        "\n",
        "# Measurement noise\n",
        "r_u_1, r_u_2 = 5e-4, 5e-4\n",
        "# ******************************************************************************************\n",
        "\n",
        "# Initializations\n",
        "xhat_hist, obs_hist, P_hist, xhat_piu_sigma_hist, xhat_meno_sigma_hist = [], [], [], [], []\n",
        "\n",
        "# Initialize covariance matrix\n",
        "P = np.identity(N_x + N_param)\n",
        "P[:N_xu, :N_xu] = P[:N_xu, :N_xu] * p0_u\n",
        "for param_idx in np.arange(N_param):\n",
        "    P[N_xu + param_idx, N_xu + param_idx] = P[N_xu + param_idx, N_xu + param_idx] * p0_param[param_idx]\n",
        "\n",
        "# Initialize process noise matrix\n",
        "Q = np.identity(N_x + N_param)\n",
        "Q[0, 0] = Q[0, 0] * q_u_1\n",
        "Q[1, 1] = Q[1, 1] * q_u_2\n",
        "for param_idx in np.arange(N_param):\n",
        "    Q[N_xu + param_idx, N_xu + param_idx] = Q[N_xu + param_idx, N_xu + param_idx] * q_param[param_idx]\n",
        "\n",
        "# Initialize measurement noise matrix\n",
        "R = np.identity(N_obs)\n",
        "R[0, 0] = R[0, 0] * r_u_1\n",
        "R[1, 1] = R[1, 1] * r_u_2\n",
        "\n",
        "# Define an identity matrix of the same size as the number of state variables\n",
        "I = np.identity(N_x + N_param)\n",
        "\n",
        "# Copy the transition and observation coefficient matrices for updates\n",
        "Aupd = copy.copy(A)\n",
        "h_coeffs_upd = copy.copy(h_coeffs)\n"
      ]
    },
    {
      "cell_type": "code",
      "execution_count": null,
      "id": "XLpZFlFTb7ti",
      "metadata": {
        "id": "XLpZFlFTb7ti"
      },
      "outputs": [],
      "source": [
        "# %% define ekf_sindy function\n",
        "def ekf_sindy(X_data_obs, Aupd, A_out, h_coeffs_upd, system, P, Q, I, Nt, n_eqs):\n",
        "    # Initialization\n",
        "    xhat_taxis, obs_taxis, P_taxis = np.zeros(shape=(N_x + N_param, Nt)), np.zeros(shape=(N_obs, Nt)), np.zeros(shape=(N_x + N_param, N_x + N_param, Nt))\n",
        "    xhat_taxis_piu_sigma, xhat_taxis_meno_sigma = np.zeros(shape=(N_x + N_param, Nt)), np.zeros(shape=(N_x + N_param, Nt))\n",
        "\n",
        "    xhat = np.zeros(shape=(N_x + N_param))\n",
        "\n",
        "    xhat[0:-N_param] = X_data_obs[0]\n",
        "    i1 = 0\n",
        "    for i0 in np.arange(N_param):\n",
        "        xhat[N_x + i0] = Aupd[eqOfInterest[i0], i0 - i1]\n",
        "        if i0 < (N_param - 1):\n",
        "            if eqOfInterest[i0 + 1] > eqOfInterest[i0]:\n",
        "                i1 += i0 + 1\n",
        "\n",
        "    xhat_taxis[:, 0], obs_taxis[:, 0], P_taxis[:, :, 0] = xhat, xhat[0:-N_param], P\n",
        "\n",
        "    # Kalman filter run\n",
        "    t_plus_1 = t0\n",
        "\n",
        "    for i0 in range(1, Nt):\n",
        "        t_ = t_plus_1\n",
        "        t_plus_1 = t_ + dt\n",
        "\n",
        "        out = X_data_obs[i0]\n",
        "        param = xhat[-N_param:]\n",
        "\n",
        "        # Prediction phase\n",
        "        xhat_pred, P_pred = numInt(xhat[0:-N_param], param, dt, t_, sindy_terms, sindy_terms_out, Aupd, A_out, P, Q, sindy_derivatives_u1, sindy_derivatives_u2, sindy_derivatives_u1_out, sindy_derivatives_u2_out, n_eqs, method='RK4')\n",
        "        xhat_pred = np.append(xhat_pred, param)\n",
        "        # end Predictor phase\n",
        "\n",
        "        # Corrector phase\n",
        "        H = jacobian_H_Hout(h_coeffs_upd, h_coeffs_out, xhat_pred[:-N_param], param, t_plus_1, sindy_derivatives_u1, sindy_derivatives_u2, sindy_derivatives_u1_out, sindy_derivatives_u2_out)\n",
        "        # Compute Kalman gain\n",
        "        G = np.matmul(np.matmul(P_pred, H.transpose()), np.linalg.inv(np.matmul(np.matmul(H, P_pred), H.transpose()) + R))\n",
        "        obs = model_Asindy(h_coeffs_upd, xhat_pred[:-N_param], t_plus_1, sindy_terms) + model_Asindy(h_coeffs_out, xhat_pred[:-N_param], t_plus_1, sindy_terms_out)\n",
        "        if N_obs == 1:\n",
        "            xhat = xhat_pred + np.matmul(G, np.expand_dims(out - obs, axis=0))\n",
        "        else:\n",
        "            xhat = xhat_pred + np.matmul(G, (out - obs))\n",
        "\n",
        "        # Update covariance matrix\n",
        "        P = np.matmul(np.matmul(I - np.matmul(G, H), P_pred), (I - np.matmul(G, H)).transpose()) + np.matmul(np.matmul(G, R), G.transpose())\n",
        "        # end Corrector phase\n",
        "\n",
        "        xhat_taxis[:, i0], obs_taxis[:, i0], P_taxis[:, :, i0] = xhat, obs, P\n",
        "\n",
        "        # Update transition model\n",
        "        Aupd = updateA(Aupd, xhat[-N_param:])\n",
        "\n",
        "    for i5 in range(N_x + N_param):\n",
        "        # Assumption - diagonal covariance matrix\n",
        "        xhat_taxis_piu_sigma[i5, :] = xhat_taxis[i5, :] + 1.96 * np.sqrt(P_taxis[i5, i5, :])\n",
        "        xhat_taxis_meno_sigma[i5, :] = xhat_taxis[i5, :] - 1.96 * np.sqrt(P_taxis[i5, i5, :])\n",
        "\n",
        "    return Aupd, xhat, P, Q, xhat_taxis, obs_taxis, P_taxis, xhat_taxis_piu_sigma, xhat_taxis_meno_sigma\n"
      ]
    },
    {
      "cell_type": "code",
      "execution_count": 15,
      "id": "N5KgjqxWb9ix",
      "metadata": {
        "colab": {
          "base_uri": "https://localhost:8080/",
          "height": 452
        },
        "id": "N5KgjqxWb9ix",
        "outputId": "571db1a4-de9f-455a-9deb-a561dfe3ea15"
      },
      "outputs": [
        {
          "ename": "TypeError",
          "evalue": "jacobian_A_A_out() missing 1 required positional argument: 'n_eqs'",
          "output_type": "error",
          "traceback": [
            "\u001b[0;31m---------------------------------------------------------------------------\u001b[0m",
            "\u001b[0;31mTypeError\u001b[0m                                 Traceback (most recent call last)",
            "\u001b[0;32m<ipython-input-15-f9606897e0ec>\u001b[0m in \u001b[0;36m<cell line: 0>\u001b[0;34m()\u001b[0m\n\u001b[0;32m----> 1\u001b[0;31m \u001b[0mAupd\u001b[0m\u001b[0;34m,\u001b[0m\u001b[0mxhat\u001b[0m\u001b[0;34m,\u001b[0m\u001b[0mP\u001b[0m\u001b[0;34m,\u001b[0m\u001b[0mQ\u001b[0m\u001b[0;34m,\u001b[0m\u001b[0mxhat_taxis\u001b[0m\u001b[0;34m,\u001b[0m\u001b[0mobs_taxis\u001b[0m\u001b[0;34m,\u001b[0m\u001b[0mP_taxis\u001b[0m\u001b[0;34m,\u001b[0m\u001b[0mxhat_taxis_piu_sigma\u001b[0m\u001b[0;34m,\u001b[0m\u001b[0mxhat_taxis_meno_sigma\u001b[0m \u001b[0;34m=\u001b[0m \u001b[0mekf_sindy\u001b[0m\u001b[0;34m(\u001b[0m\u001b[0mX\u001b[0m\u001b[0;34m,\u001b[0m\u001b[0mAupd\u001b[0m\u001b[0;34m,\u001b[0m\u001b[0mA_out\u001b[0m\u001b[0;34m,\u001b[0m\u001b[0mh_coeffs_upd\u001b[0m\u001b[0;34m,\u001b[0m\u001b[0msystem\u001b[0m\u001b[0;34m,\u001b[0m\u001b[0mP\u001b[0m\u001b[0;34m,\u001b[0m\u001b[0mQ\u001b[0m\u001b[0;34m,\u001b[0m\u001b[0mI\u001b[0m\u001b[0;34m,\u001b[0m\u001b[0mNt_analysis\u001b[0m\u001b[0;34m)\u001b[0m\u001b[0;34m\u001b[0m\u001b[0;34m\u001b[0m\u001b[0m\n\u001b[0m",
            "\u001b[0;32m<ipython-input-14-d2b6b3fd4766>\u001b[0m in \u001b[0;36mekf_sindy\u001b[0;34m(X_data_obs, Aupd, A_out, h_coeffs_upd, system, P, Q, I, Nt)\u001b[0m\n\u001b[1;32m     28\u001b[0m \u001b[0;34m\u001b[0m\u001b[0m\n\u001b[1;32m     29\u001b[0m         \u001b[0;31m# Prediction phase\u001b[0m\u001b[0;34m\u001b[0m\u001b[0;34m\u001b[0m\u001b[0m\n\u001b[0;32m---> 30\u001b[0;31m         \u001b[0mxhat_pred\u001b[0m\u001b[0;34m,\u001b[0m \u001b[0mP_pred\u001b[0m \u001b[0;34m=\u001b[0m \u001b[0mnumInt\u001b[0m\u001b[0;34m(\u001b[0m\u001b[0mxhat\u001b[0m\u001b[0;34m[\u001b[0m\u001b[0;36m0\u001b[0m\u001b[0;34m:\u001b[0m\u001b[0;34m-\u001b[0m\u001b[0mN_param\u001b[0m\u001b[0;34m]\u001b[0m\u001b[0;34m,\u001b[0m \u001b[0mparam\u001b[0m\u001b[0;34m,\u001b[0m \u001b[0mdt\u001b[0m\u001b[0;34m,\u001b[0m \u001b[0mt_\u001b[0m\u001b[0;34m,\u001b[0m \u001b[0msindy_terms\u001b[0m\u001b[0;34m,\u001b[0m \u001b[0msindy_terms_out\u001b[0m\u001b[0;34m,\u001b[0m \u001b[0mAupd\u001b[0m\u001b[0;34m,\u001b[0m \u001b[0mA_out\u001b[0m\u001b[0;34m,\u001b[0m \u001b[0mP\u001b[0m\u001b[0;34m,\u001b[0m \u001b[0mQ\u001b[0m\u001b[0;34m,\u001b[0m \u001b[0msindy_derivatives_u1\u001b[0m\u001b[0;34m,\u001b[0m \u001b[0msindy_derivatives_u2\u001b[0m\u001b[0;34m,\u001b[0m \u001b[0msindy_derivatives_u1_out\u001b[0m\u001b[0;34m,\u001b[0m \u001b[0msindy_derivatives_u2_out\u001b[0m\u001b[0;34m,\u001b[0m \u001b[0mmethod\u001b[0m\u001b[0;34m=\u001b[0m\u001b[0;34m'RK4'\u001b[0m\u001b[0;34m)\u001b[0m\u001b[0;34m\u001b[0m\u001b[0;34m\u001b[0m\u001b[0m\n\u001b[0m\u001b[1;32m     31\u001b[0m         \u001b[0mxhat_pred\u001b[0m \u001b[0;34m=\u001b[0m \u001b[0mnp\u001b[0m\u001b[0;34m.\u001b[0m\u001b[0mappend\u001b[0m\u001b[0;34m(\u001b[0m\u001b[0mxhat_pred\u001b[0m\u001b[0;34m,\u001b[0m \u001b[0mparam\u001b[0m\u001b[0;34m)\u001b[0m\u001b[0;34m\u001b[0m\u001b[0;34m\u001b[0m\u001b[0m\n\u001b[1;32m     32\u001b[0m         \u001b[0;31m# end Predictor phase\u001b[0m\u001b[0;34m\u001b[0m\u001b[0;34m\u001b[0m\u001b[0m\n",
            "\u001b[0;32m/content/EKF-SINDy/utils_EKFSINDy_online.py\u001b[0m in \u001b[0;36mnumInt\u001b[0;34m(dyn_state, param_state, dt, t_, sindy_terms, sindy_terms_out, Aupd, A_out, P, Q, sindy_derivatives_u1, sindy_derivatives_u2, sindy_derivatives_u1_out, sindy_derivatives_u2_out, method)\u001b[0m\n\u001b[1;32m    244\u001b[0m \u001b[0;34m\u001b[0m\u001b[0m\n\u001b[1;32m    245\u001b[0m         \u001b[0;31m# Covariance prediction using Runge-Kutta 4th order method\u001b[0m\u001b[0;34m\u001b[0m\u001b[0;34m\u001b[0m\u001b[0m\n\u001b[0;32m--> 246\u001b[0;31m         \u001b[0mF\u001b[0m \u001b[0;34m=\u001b[0m \u001b[0mjacobian_A_A_out\u001b[0m\u001b[0;34m(\u001b[0m\u001b[0mAupd\u001b[0m\u001b[0;34m,\u001b[0m \u001b[0mA_out\u001b[0m\u001b[0;34m,\u001b[0m \u001b[0mdyn_state\u001b[0m\u001b[0;34m,\u001b[0m \u001b[0mparam_state\u001b[0m\u001b[0;34m,\u001b[0m \u001b[0mt_\u001b[0m\u001b[0;34m,\u001b[0m \u001b[0msindy_terms\u001b[0m\u001b[0;34m,\u001b[0m \u001b[0msindy_terms_out\u001b[0m\u001b[0;34m,\u001b[0m \u001b[0msindy_derivatives_u1\u001b[0m\u001b[0;34m,\u001b[0m \u001b[0msindy_derivatives_u2\u001b[0m\u001b[0;34m,\u001b[0m \u001b[0msindy_derivatives_u1_out\u001b[0m\u001b[0;34m,\u001b[0m \u001b[0msindy_derivatives_u2_out\u001b[0m\u001b[0;34m)\u001b[0m  \u001b[0;31m# Jacobian computation\u001b[0m\u001b[0;34m\u001b[0m\u001b[0;34m\u001b[0m\u001b[0m\n\u001b[0m\u001b[1;32m    247\u001b[0m         \u001b[0mFk1\u001b[0m \u001b[0;34m=\u001b[0m \u001b[0mjacobian_A_A_out\u001b[0m\u001b[0;34m(\u001b[0m\u001b[0mAupd\u001b[0m\u001b[0;34m,\u001b[0m \u001b[0mA_out\u001b[0m\u001b[0;34m,\u001b[0m \u001b[0mdyn_state\u001b[0m \u001b[0;34m+\u001b[0m \u001b[0;34m(\u001b[0m\u001b[0mdt\u001b[0m \u001b[0;34m/\u001b[0m \u001b[0;36m2\u001b[0m\u001b[0;34m)\u001b[0m \u001b[0;34m*\u001b[0m \u001b[0mxk1\u001b[0m\u001b[0;34m,\u001b[0m \u001b[0mparam_state\u001b[0m\u001b[0;34m,\u001b[0m \u001b[0mt_\u001b[0m \u001b[0;34m+\u001b[0m \u001b[0mdt\u001b[0m \u001b[0;34m/\u001b[0m \u001b[0;36m2\u001b[0m\u001b[0;34m,\u001b[0m \u001b[0msindy_terms\u001b[0m\u001b[0;34m,\u001b[0m \u001b[0msindy_terms_out\u001b[0m\u001b[0;34m,\u001b[0m \u001b[0msindy_derivatives_u1\u001b[0m\u001b[0;34m,\u001b[0m \u001b[0msindy_derivatives_u2\u001b[0m\u001b[0;34m,\u001b[0m \u001b[0msindy_derivatives_u1_out\u001b[0m\u001b[0;34m,\u001b[0m \u001b[0msindy_derivatives_u2_out\u001b[0m\u001b[0;34m)\u001b[0m\u001b[0;34m\u001b[0m\u001b[0;34m\u001b[0m\u001b[0m\n\u001b[1;32m    248\u001b[0m         \u001b[0mFk2\u001b[0m \u001b[0;34m=\u001b[0m \u001b[0mjacobian_A_A_out\u001b[0m\u001b[0;34m(\u001b[0m\u001b[0mAupd\u001b[0m\u001b[0;34m,\u001b[0m \u001b[0mA_out\u001b[0m\u001b[0;34m,\u001b[0m \u001b[0mdyn_state\u001b[0m \u001b[0;34m+\u001b[0m \u001b[0;34m(\u001b[0m\u001b[0mdt\u001b[0m \u001b[0;34m/\u001b[0m \u001b[0;36m2\u001b[0m\u001b[0;34m)\u001b[0m \u001b[0;34m*\u001b[0m \u001b[0mxk2\u001b[0m\u001b[0;34m,\u001b[0m \u001b[0mparam_state\u001b[0m\u001b[0;34m,\u001b[0m \u001b[0mt_\u001b[0m \u001b[0;34m+\u001b[0m \u001b[0mdt\u001b[0m \u001b[0;34m/\u001b[0m \u001b[0;36m2\u001b[0m\u001b[0;34m,\u001b[0m \u001b[0msindy_terms\u001b[0m\u001b[0;34m,\u001b[0m \u001b[0msindy_terms_out\u001b[0m\u001b[0;34m,\u001b[0m \u001b[0msindy_derivatives_u1\u001b[0m\u001b[0;34m,\u001b[0m \u001b[0msindy_derivatives_u2\u001b[0m\u001b[0;34m,\u001b[0m \u001b[0msindy_derivatives_u1_out\u001b[0m\u001b[0;34m,\u001b[0m \u001b[0msindy_derivatives_u2_out\u001b[0m\u001b[0;34m)\u001b[0m\u001b[0;34m\u001b[0m\u001b[0;34m\u001b[0m\u001b[0m\n",
            "\u001b[0;31mTypeError\u001b[0m: jacobian_A_A_out() missing 1 required positional argument: 'n_eqs'"
          ]
        }
      ],
      "source": [
        "Aupd,xhat,P,Q,xhat_taxis,obs_taxis,P_taxis,xhat_taxis_piu_sigma,xhat_taxis_meno_sigma = ekf_sindy(X,Aupd,A_out,h_coeffs_upd,system,P,Q,I,Nt_analysis)"
      ]
    },
    {
      "cell_type": "code",
      "execution_count": null,
      "id": "rXZ1yNu8Nqgy",
      "metadata": {
        "id": "rXZ1yNu8Nqgy"
      },
      "outputs": [],
      "source": [
        "ntsp = 0\n",
        "ntst = Nt_analysis\n",
        "\n",
        "# %% Plot outcomes\n",
        "t_axis, rho_step = plot_outcomes(t, X, xhat_taxis, xhat_taxis_piu_sigma, xhat_taxis_meno_sigma, obs_taxis, N_x, N_param, true_coeff, coeff_names)\n",
        "\n",
        "# %% Plot phase space\n",
        "ntsp = 0\n",
        "ntst = int(Nt_analysis)\n",
        "plot_equil = 0\n",
        "plot_bounds = 0\n",
        "plot_phase_space(t, X, xhat_taxis, xhat_taxis_piu_sigma, xhat_taxis_meno_sigma, obs_taxis, N_x, plot_equil, plot_bounds, true_coeff)"
      ]
    },
    {
      "cell_type": "markdown",
      "id": "5JEgXWoNsYH_",
      "metadata": {
        "id": "5JEgXWoNsYH_"
      },
      "source": [
        "### **References**\n",
        "\n",
        "[1] Rosafalco, Conti, Manzoni, Mariani, Frangi [Online learning in bifurcating dynamic systems via SINDy and Kalman filtering](https://arxiv.org/abs/2309.00325), arXiv (2024).\n",
        "\n",
        "[2] Rosafalco, Conti, Manzoni, Mariani, Frangi. [EKF-SINDy: Empowering the extended Kalman filter with sparse identification of nonlinear dynamics](https://www.sciencedirect.com/science/article/abs/pii/S0045782522007678?via%3Dihub), Computer methods in applied mechanics and engineering (2024).\n",
        "\n",
        "⭐ Leave a star to the github repos if you enojyed :)"
      ]
    },
    {
      "cell_type": "markdown",
      "id": "6MzNOh9XsdNu",
      "metadata": {
        "id": "6MzNOh9XsdNu"
      },
      "source": [
        "### **Extra**\n",
        "To evaluate the robustness of the online procedure, we have adopted a *poor* SINDy model for the Selkov dynamics by setting the threshold parameter $L=0.2$ instead of $L=0.05$.\n",
        "\n",
        "The model obtained with $L=0.2$ deviates significantly more from the reference compared to the one determined with $L=0.05$. Notably, this model entirely omits the $x_1$ term, which is weighted by the coefficients $\\sigma_1$ and $\\sigma_2$ in $f_1$ and $f_2$, respectively.\n",
        "\n",
        "As it is shown in the following, the procedure demonstrates remarkable robustness, as the identification outcomes are once again satisfactory, successfully recovering the correct values of the missing terms $\\sigma_1$ and $\\sigma_2$. As unique warning, we observe that it has been necessary to initially set the values of $\\sigma_1$ and $\\sigma_2$ to $10^{-9}$, a small value but different from $0$, to ensure sensitivity to these parameters in the Jacobian matrix."
      ]
    },
    {
      "cell_type": "code",
      "execution_count": null,
      "id": "COAB2Mb6se70",
      "metadata": {
        "id": "COAB2Mb6se70"
      },
      "outputs": [],
      "source": [
        "# ######################      Offline SINDy     ######################\n",
        "threshold = 0.2\n",
        "model = ps.SINDy(feature_names=['u1', 'u2'],\n",
        "                 feature_library=ps.PolynomialLibrary(degree=3),\n",
        "                 optimizer=ps.STLSQ(threshold=threshold))\n",
        "model.fit(Xtrain, t=system['dt'], multiple_trajectories=True)\n",
        "model.print()\n",
        "\n",
        "#store model coefficients\n",
        "coeffs = model.coefficients()\n",
        "#we assign a non-zero values to the coefficients we to the linear terms 'u1' to keep track of them\n",
        "coeffs[0,1] = 1e-9\n",
        "coeffs[1,1] = 1e-9\n",
        "\n",
        "non_zero_coeff_indices = np.nonzero(coeffs)\n",
        "eqOfInterest = non_zero_coeff_indices[0]\n",
        "keepEntries = np.arange(len(non_zero_coeff_indices[0]))\n",
        "\n",
        "N_param = len(keepEntries)\n",
        "\n",
        "coeff_names     = ['rho','sigma_1', 'b122_1','sigma_2','k2_2', 'b122_2']\n",
        "funct_names     = [  '1',     'u1','u1*u2^2',     'u1',  'u2','u1*u2^2']\n",
        "\n",
        "true_coeff      = [system['rho_start'],-1*system['sigma1'],-1.0,system['sigma2'],-system['b122_1'],system['b122_2']]\n",
        "eqOfInterestOut = []\n",
        "takeOutEntries = []\n",
        "\n",
        "# Construct the matrix of coefficients to be monitored $\\tilde{\\Xi}$\n",
        "B_map, unique_terms, sindy_terms, term_names, A, sindy_derivatives_u1, sindy_derivatives_u2 = extract_coefficients(coeffs, keepEntries, eqOfInterest)\n",
        "# Construct the matrix of coefficients to keep frozen $\\Xi_0$\n",
        "B_map_out, unique_terms_out, sindy_terms_out, term_names_out, A_out, sindy_derivatives_u1_out, sindy_derivatives_u2_out = extract_coefficients(coeffs, takeOutEntries, eqOfInterestOut)\n",
        "\n",
        "\n",
        "# %% Filter tuning\n",
        "\n",
        "# Define variation for all terms ***********************************************************\n",
        "p0_param = [5e-4, 1e-3, 1e-3, 1e-4, 5e-4, 1e-3]  # rho, sigma_1, b122_1, sigma_2, k2_2, b122_2\n",
        "\n",
        "# Process noise\n",
        "q_param = [5e-6, 1e-9, 1e-10, 1e-11, 1e-9, 1e-12] # rho, sigma_1, b122_1, sigma_2, k2_2, b122_2\n",
        "\n",
        "\n",
        "# ******************************************************************************************\n",
        "\n",
        "# Initializations\n",
        "xhat_hist, obs_hist, P_hist, xhat_piu_sigma_hist, xhat_meno_sigma_hist = [], [], [], [], []\n",
        "\n",
        "# Initialize covariance matrix\n",
        "P = np.identity(N_x + N_param)\n",
        "P[:N_xu, :N_xu] = P[:N_xu, :N_xu] * p0_u\n",
        "for param_idx in np.arange(N_param):\n",
        "    P[N_xu + param_idx, N_xu + param_idx] = P[N_xu + param_idx, N_xu + param_idx] * p0_param[param_idx]\n",
        "\n",
        "# Initialize process noise matrix\n",
        "Q = np.identity(N_x + N_param)\n",
        "Q[0, 0] = Q[0, 0] * q_u_1\n",
        "Q[1, 1] = Q[1, 1] * q_u_2\n",
        "for param_idx in np.arange(N_param):\n",
        "    Q[N_xu + param_idx, N_xu + param_idx] = Q[N_xu + param_idx, N_xu + param_idx] * q_param[param_idx]\n",
        "\n",
        "# Define an identity matrix of the same size as the number of state variables\n",
        "I = np.identity(N_x + N_param)\n",
        "\n",
        "# Copy the transition and observation coefficient matrices for updates\n",
        "Aupd = copy.copy(A)\n",
        "h_coeffs_upd = copy.copy(h_coeffs)\n",
        "\n",
        "# ######################      Online EKF-SINDy     ######################\n",
        "Aupd,xhat,P,Q,xhat_taxis,obs_taxis,P_taxis,xhat_taxis_piu_sigma,xhat_taxis_meno_sigma = ekf_sindy(X,Aupd,A_out,h_coeffs_upd,system,P,Q,I,Nt_analysis)\n",
        "\n",
        "# %% Plot outcomes\n",
        "t_axis, rho_step = plot_outcomes(t, X, xhat_taxis, xhat_taxis_piu_sigma, xhat_taxis_meno_sigma, obs_taxis, N_x, N_param, true_coeff, coeff_names)\n",
        "\n",
        "# %% Plot phase space\n",
        "plot_phase_space(t, X, xhat_taxis, xhat_taxis_piu_sigma, xhat_taxis_meno_sigma, obs_taxis, N_x, plot_equil, plot_bounds, true_coeff)"
      ]
    }
  ],
  "metadata": {
    "colab": {
      "include_colab_link": true,
      "name": "SelkovModel_OnlineLearning.ipynb",
      "provenance": []
    },
    "kernelspec": {
      "display_name": "Python 3",
      "language": "python",
      "name": "python3"
    },
    "language_info": {
      "codemirror_mode": {
        "name": "ipython",
        "version": 3
      },
      "file_extension": ".py",
      "mimetype": "text/x-python",
      "name": "python",
      "nbconvert_exporter": "python",
      "pygments_lexer": "ipython3",
      "version": "3.12.0"
    }
  },
  "nbformat": 4,
  "nbformat_minor": 5
}
